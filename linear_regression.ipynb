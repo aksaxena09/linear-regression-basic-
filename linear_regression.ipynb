{
  "nbformat": 4,
  "nbformat_minor": 0,
  "metadata": {
    "colab": {
      "name": "linear regression.ipynb",
      "provenance": []
    },
    "kernelspec": {
      "name": "python3",
      "display_name": "Python 3"
    }
  },
  "cells": [
    {
      "cell_type": "code",
      "metadata": {
        "id": "MzVnGEPA99Ir",
        "colab_type": "code",
        "colab": {}
      },
      "source": [
        "import tensorflow as tf\n",
        "import numpy \n",
        "import matplotlib.pyplot as plt\n",
        "\n",
        "%matplotlib inline\n"
      ],
      "execution_count": 0,
      "outputs": []
    },
    {
      "cell_type": "code",
      "metadata": {
        "id": "sdrgXmi3-p6y",
        "colab_type": "code",
        "outputId": "3686d3a4-de05-422e-8e19-82e446b55969",
        "colab": {
          "base_uri": "https://localhost:8080/",
          "height": 34
        }
      },
      "source": [
        "learning_rate = 0.01\n",
        "training_rate = 1000\n",
        "display_step =50\n",
        "train_X= numpy.asarray([3.3,4.4,5.5,6.71,6.63,4.168,9.779,6,5,5,4,2,4,9,1,3,6,7,2,7])\n",
        "train_Y= numpy.asarray([5,4,2,9,6,3,4,2,8,3,7,4,4,1,8.8,2.2,4,4,9,5,7])\n",
        "n_samples=len(train_X)\n",
        "print(n_samples)"
      ],
      "execution_count": 0,
      "outputs": [
        {
          "output_type": "stream",
          "text": [
            "20\n"
          ],
          "name": "stdout"
        }
      ]
    },
    {
      "cell_type": "code",
      "metadata": {
        "id": "qHQ03zUYAYJV",
        "colab_type": "code",
        "colab": {}
      },
      "source": [
        "X=tf.placeholder(\"float\")\n",
        "Y=tf.placeholder(\"float\")\n",
        "W=tf.Variable(numpy.random.randn(),name=\"Weight\")\n",
        "b=tf.Variable(numpy.random.randn(),name=\"bias\")\n",
        "pred=tf.add(tf.multiply(X,W),b)\n",
        "cost=tf.reduce_sum(tf.pow(pred-Y,2))\n",
        "optimizer=tf.train.GradientDescentOptimizer(learning_rate).minimize(cost)\n",
        "init=tf.global_variables_initializer()"
      ],
      "execution_count": 0,
      "outputs": []
    },
    {
      "cell_type": "code",
      "metadata": {
        "id": "xoc2bKXnCUJf",
        "colab_type": "code",
        "colab": {}
      },
      "source": [
        "with Session() ss:\n",
        "  ss.run(init)\n",
        "  \n",
        "  for epoch in range(training_epoch):\n",
        "    for (x,y) in zip(train_X,train_Y):\n",
        "      \n",
        "      sess.run(optimizer,feed_divt=[X:x, Y:y])\n",
        "      if(epoch+1)%display_setup==0:\n",
        "        c_result=sess.run(cost,feed_dict=[X:train_X, Y:train_Y])\n",
        "        w_result=sess.run(W)\n",
        "        b_result=sess.run(b)\n",
        "        \n",
        "        print(\"epoch\",'%04d'%epoch +1,\"cost\")"
      ],
      "execution_count": 0,
      "outputs": []
    }
  ]
}